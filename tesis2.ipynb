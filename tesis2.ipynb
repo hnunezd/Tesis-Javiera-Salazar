{
 "cells": [
  {
   "cell_type": "code",
   "execution_count": 1,
   "metadata": {},
   "outputs": [],
   "source": [
    "import numpy as np\n",
    "import pandas as pd\n",
    "import seaborn as sns\n",
    "import plotly.express as px\n",
    "from matplotlib import pyplot as plt\n",
    "from sklearn.model_selection import cross_val_score\n",
    "\n",
    "\n",
    "\n",
    "\n",
    "from imblearn.pipeline import Pipeline\n",
    "from imblearn.over_sampling import SMOTE\n",
    "from imblearn.under_sampling import RandomUnderSampler\n",
    "\n",
    "\n",
    "from sklearn.model_selection import train_test_split\n",
    "from sklearn.preprocessing import StandardScaler, RobustScaler, OneHotEncoder, OrdinalEncoder\n",
    "from sklearn.pipeline import Pipeline\n",
    "from sklearn.compose import ColumnTransformer\n",
    "from sklearn.ensemble import RandomForestClassifier\n",
    "from sklearn.metrics import accuracy_score, precision_score, recall_score, f1_score\n",
    "\n",
    "from sklearn import metrics\n",
    "from collections import Counter\n",
    "\n",
    "from sklearn.metrics import classification_report\n",
    "from sklearn.metrics import confusion_matrix\n",
    "\n",
    "\n",
    "from xgboost import XGBClassifier\n",
    "import xgboost as xgb\n",
    "\n",
    "import warnings\n",
    "warnings.filterwarnings('ignore')\n",
    "\n",
    "#seleccion de variables\n",
    "from sklearn.feature_selection import SelectFromModel\n"
   ]
  },
  {
   "cell_type": "code",
   "execution_count": 20,
   "metadata": {},
   "outputs": [],
   "source": [
    "#quita notacion cientifica\n",
    "pd.set_option('display.float_format', lambda x: '%.3f' % x)"
   ]
  },
  {
   "cell_type": "code",
   "execution_count": 2,
   "metadata": {},
   "outputs": [],
   "source": [
    "df=pd.read_csv('application_data.csv')"
   ]
  },
  {
   "cell_type": "code",
   "execution_count": 3,
   "metadata": {},
   "outputs": [
    {
     "data": {
      "text/html": [
       "<div>\n",
       "<style scoped>\n",
       "    .dataframe tbody tr th:only-of-type {\n",
       "        vertical-align: middle;\n",
       "    }\n",
       "\n",
       "    .dataframe tbody tr th {\n",
       "        vertical-align: top;\n",
       "    }\n",
       "\n",
       "    .dataframe thead th {\n",
       "        text-align: right;\n",
       "    }\n",
       "</style>\n",
       "<table border=\"1\" class=\"dataframe\">\n",
       "  <thead>\n",
       "    <tr style=\"text-align: right;\">\n",
       "      <th></th>\n",
       "      <th>SK_ID_CURR</th>\n",
       "      <th>TARGET</th>\n",
       "      <th>NAME_CONTRACT_TYPE</th>\n",
       "      <th>CODE_GENDER</th>\n",
       "      <th>FLAG_OWN_CAR</th>\n",
       "      <th>FLAG_OWN_REALTY</th>\n",
       "      <th>CNT_CHILDREN</th>\n",
       "      <th>AMT_INCOME_TOTAL</th>\n",
       "      <th>AMT_CREDIT</th>\n",
       "      <th>AMT_ANNUITY</th>\n",
       "      <th>...</th>\n",
       "      <th>FLAG_DOCUMENT_18</th>\n",
       "      <th>FLAG_DOCUMENT_19</th>\n",
       "      <th>FLAG_DOCUMENT_20</th>\n",
       "      <th>FLAG_DOCUMENT_21</th>\n",
       "      <th>AMT_REQ_CREDIT_BUREAU_HOUR</th>\n",
       "      <th>AMT_REQ_CREDIT_BUREAU_DAY</th>\n",
       "      <th>AMT_REQ_CREDIT_BUREAU_WEEK</th>\n",
       "      <th>AMT_REQ_CREDIT_BUREAU_MON</th>\n",
       "      <th>AMT_REQ_CREDIT_BUREAU_QRT</th>\n",
       "      <th>AMT_REQ_CREDIT_BUREAU_YEAR</th>\n",
       "    </tr>\n",
       "  </thead>\n",
       "  <tbody>\n",
       "    <tr>\n",
       "      <th>0</th>\n",
       "      <td>100002</td>\n",
       "      <td>1</td>\n",
       "      <td>Cash loans</td>\n",
       "      <td>M</td>\n",
       "      <td>N</td>\n",
       "      <td>Y</td>\n",
       "      <td>0</td>\n",
       "      <td>202500.0</td>\n",
       "      <td>406597.5</td>\n",
       "      <td>24700.5</td>\n",
       "      <td>...</td>\n",
       "      <td>0</td>\n",
       "      <td>0</td>\n",
       "      <td>0</td>\n",
       "      <td>0</td>\n",
       "      <td>0.0</td>\n",
       "      <td>0.0</td>\n",
       "      <td>0.0</td>\n",
       "      <td>0.0</td>\n",
       "      <td>0.0</td>\n",
       "      <td>1.0</td>\n",
       "    </tr>\n",
       "    <tr>\n",
       "      <th>1</th>\n",
       "      <td>100003</td>\n",
       "      <td>0</td>\n",
       "      <td>Cash loans</td>\n",
       "      <td>F</td>\n",
       "      <td>N</td>\n",
       "      <td>N</td>\n",
       "      <td>0</td>\n",
       "      <td>270000.0</td>\n",
       "      <td>1293502.5</td>\n",
       "      <td>35698.5</td>\n",
       "      <td>...</td>\n",
       "      <td>0</td>\n",
       "      <td>0</td>\n",
       "      <td>0</td>\n",
       "      <td>0</td>\n",
       "      <td>0.0</td>\n",
       "      <td>0.0</td>\n",
       "      <td>0.0</td>\n",
       "      <td>0.0</td>\n",
       "      <td>0.0</td>\n",
       "      <td>0.0</td>\n",
       "    </tr>\n",
       "    <tr>\n",
       "      <th>2</th>\n",
       "      <td>100004</td>\n",
       "      <td>0</td>\n",
       "      <td>Revolving loans</td>\n",
       "      <td>M</td>\n",
       "      <td>Y</td>\n",
       "      <td>Y</td>\n",
       "      <td>0</td>\n",
       "      <td>67500.0</td>\n",
       "      <td>135000.0</td>\n",
       "      <td>6750.0</td>\n",
       "      <td>...</td>\n",
       "      <td>0</td>\n",
       "      <td>0</td>\n",
       "      <td>0</td>\n",
       "      <td>0</td>\n",
       "      <td>0.0</td>\n",
       "      <td>0.0</td>\n",
       "      <td>0.0</td>\n",
       "      <td>0.0</td>\n",
       "      <td>0.0</td>\n",
       "      <td>0.0</td>\n",
       "    </tr>\n",
       "    <tr>\n",
       "      <th>3</th>\n",
       "      <td>100006</td>\n",
       "      <td>0</td>\n",
       "      <td>Cash loans</td>\n",
       "      <td>F</td>\n",
       "      <td>N</td>\n",
       "      <td>Y</td>\n",
       "      <td>0</td>\n",
       "      <td>135000.0</td>\n",
       "      <td>312682.5</td>\n",
       "      <td>29686.5</td>\n",
       "      <td>...</td>\n",
       "      <td>0</td>\n",
       "      <td>0</td>\n",
       "      <td>0</td>\n",
       "      <td>0</td>\n",
       "      <td>NaN</td>\n",
       "      <td>NaN</td>\n",
       "      <td>NaN</td>\n",
       "      <td>NaN</td>\n",
       "      <td>NaN</td>\n",
       "      <td>NaN</td>\n",
       "    </tr>\n",
       "    <tr>\n",
       "      <th>4</th>\n",
       "      <td>100007</td>\n",
       "      <td>0</td>\n",
       "      <td>Cash loans</td>\n",
       "      <td>M</td>\n",
       "      <td>N</td>\n",
       "      <td>Y</td>\n",
       "      <td>0</td>\n",
       "      <td>121500.0</td>\n",
       "      <td>513000.0</td>\n",
       "      <td>21865.5</td>\n",
       "      <td>...</td>\n",
       "      <td>0</td>\n",
       "      <td>0</td>\n",
       "      <td>0</td>\n",
       "      <td>0</td>\n",
       "      <td>0.0</td>\n",
       "      <td>0.0</td>\n",
       "      <td>0.0</td>\n",
       "      <td>0.0</td>\n",
       "      <td>0.0</td>\n",
       "      <td>0.0</td>\n",
       "    </tr>\n",
       "    <tr>\n",
       "      <th>...</th>\n",
       "      <td>...</td>\n",
       "      <td>...</td>\n",
       "      <td>...</td>\n",
       "      <td>...</td>\n",
       "      <td>...</td>\n",
       "      <td>...</td>\n",
       "      <td>...</td>\n",
       "      <td>...</td>\n",
       "      <td>...</td>\n",
       "      <td>...</td>\n",
       "      <td>...</td>\n",
       "      <td>...</td>\n",
       "      <td>...</td>\n",
       "      <td>...</td>\n",
       "      <td>...</td>\n",
       "      <td>...</td>\n",
       "      <td>...</td>\n",
       "      <td>...</td>\n",
       "      <td>...</td>\n",
       "      <td>...</td>\n",
       "      <td>...</td>\n",
       "    </tr>\n",
       "    <tr>\n",
       "      <th>307506</th>\n",
       "      <td>456251</td>\n",
       "      <td>0</td>\n",
       "      <td>Cash loans</td>\n",
       "      <td>M</td>\n",
       "      <td>N</td>\n",
       "      <td>N</td>\n",
       "      <td>0</td>\n",
       "      <td>157500.0</td>\n",
       "      <td>254700.0</td>\n",
       "      <td>27558.0</td>\n",
       "      <td>...</td>\n",
       "      <td>0</td>\n",
       "      <td>0</td>\n",
       "      <td>0</td>\n",
       "      <td>0</td>\n",
       "      <td>NaN</td>\n",
       "      <td>NaN</td>\n",
       "      <td>NaN</td>\n",
       "      <td>NaN</td>\n",
       "      <td>NaN</td>\n",
       "      <td>NaN</td>\n",
       "    </tr>\n",
       "    <tr>\n",
       "      <th>307507</th>\n",
       "      <td>456252</td>\n",
       "      <td>0</td>\n",
       "      <td>Cash loans</td>\n",
       "      <td>F</td>\n",
       "      <td>N</td>\n",
       "      <td>Y</td>\n",
       "      <td>0</td>\n",
       "      <td>72000.0</td>\n",
       "      <td>269550.0</td>\n",
       "      <td>12001.5</td>\n",
       "      <td>...</td>\n",
       "      <td>0</td>\n",
       "      <td>0</td>\n",
       "      <td>0</td>\n",
       "      <td>0</td>\n",
       "      <td>NaN</td>\n",
       "      <td>NaN</td>\n",
       "      <td>NaN</td>\n",
       "      <td>NaN</td>\n",
       "      <td>NaN</td>\n",
       "      <td>NaN</td>\n",
       "    </tr>\n",
       "    <tr>\n",
       "      <th>307508</th>\n",
       "      <td>456253</td>\n",
       "      <td>0</td>\n",
       "      <td>Cash loans</td>\n",
       "      <td>F</td>\n",
       "      <td>N</td>\n",
       "      <td>Y</td>\n",
       "      <td>0</td>\n",
       "      <td>153000.0</td>\n",
       "      <td>677664.0</td>\n",
       "      <td>29979.0</td>\n",
       "      <td>...</td>\n",
       "      <td>0</td>\n",
       "      <td>0</td>\n",
       "      <td>0</td>\n",
       "      <td>0</td>\n",
       "      <td>1.0</td>\n",
       "      <td>0.0</td>\n",
       "      <td>0.0</td>\n",
       "      <td>1.0</td>\n",
       "      <td>0.0</td>\n",
       "      <td>1.0</td>\n",
       "    </tr>\n",
       "    <tr>\n",
       "      <th>307509</th>\n",
       "      <td>456254</td>\n",
       "      <td>1</td>\n",
       "      <td>Cash loans</td>\n",
       "      <td>F</td>\n",
       "      <td>N</td>\n",
       "      <td>Y</td>\n",
       "      <td>0</td>\n",
       "      <td>171000.0</td>\n",
       "      <td>370107.0</td>\n",
       "      <td>20205.0</td>\n",
       "      <td>...</td>\n",
       "      <td>0</td>\n",
       "      <td>0</td>\n",
       "      <td>0</td>\n",
       "      <td>0</td>\n",
       "      <td>0.0</td>\n",
       "      <td>0.0</td>\n",
       "      <td>0.0</td>\n",
       "      <td>0.0</td>\n",
       "      <td>0.0</td>\n",
       "      <td>0.0</td>\n",
       "    </tr>\n",
       "    <tr>\n",
       "      <th>307510</th>\n",
       "      <td>456255</td>\n",
       "      <td>0</td>\n",
       "      <td>Cash loans</td>\n",
       "      <td>F</td>\n",
       "      <td>N</td>\n",
       "      <td>N</td>\n",
       "      <td>0</td>\n",
       "      <td>157500.0</td>\n",
       "      <td>675000.0</td>\n",
       "      <td>49117.5</td>\n",
       "      <td>...</td>\n",
       "      <td>0</td>\n",
       "      <td>0</td>\n",
       "      <td>0</td>\n",
       "      <td>0</td>\n",
       "      <td>0.0</td>\n",
       "      <td>0.0</td>\n",
       "      <td>0.0</td>\n",
       "      <td>2.0</td>\n",
       "      <td>0.0</td>\n",
       "      <td>1.0</td>\n",
       "    </tr>\n",
       "  </tbody>\n",
       "</table>\n",
       "<p>307511 rows × 122 columns</p>\n",
       "</div>"
      ],
      "text/plain": [
       "        SK_ID_CURR  TARGET NAME_CONTRACT_TYPE CODE_GENDER FLAG_OWN_CAR  \\\n",
       "0           100002       1         Cash loans           M            N   \n",
       "1           100003       0         Cash loans           F            N   \n",
       "2           100004       0    Revolving loans           M            Y   \n",
       "3           100006       0         Cash loans           F            N   \n",
       "4           100007       0         Cash loans           M            N   \n",
       "...            ...     ...                ...         ...          ...   \n",
       "307506      456251       0         Cash loans           M            N   \n",
       "307507      456252       0         Cash loans           F            N   \n",
       "307508      456253       0         Cash loans           F            N   \n",
       "307509      456254       1         Cash loans           F            N   \n",
       "307510      456255       0         Cash loans           F            N   \n",
       "\n",
       "       FLAG_OWN_REALTY  CNT_CHILDREN  AMT_INCOME_TOTAL  AMT_CREDIT  \\\n",
       "0                    Y             0          202500.0    406597.5   \n",
       "1                    N             0          270000.0   1293502.5   \n",
       "2                    Y             0           67500.0    135000.0   \n",
       "3                    Y             0          135000.0    312682.5   \n",
       "4                    Y             0          121500.0    513000.0   \n",
       "...                ...           ...               ...         ...   \n",
       "307506               N             0          157500.0    254700.0   \n",
       "307507               Y             0           72000.0    269550.0   \n",
       "307508               Y             0          153000.0    677664.0   \n",
       "307509               Y             0          171000.0    370107.0   \n",
       "307510               N             0          157500.0    675000.0   \n",
       "\n",
       "        AMT_ANNUITY  ...  FLAG_DOCUMENT_18 FLAG_DOCUMENT_19 FLAG_DOCUMENT_20  \\\n",
       "0           24700.5  ...                 0                0                0   \n",
       "1           35698.5  ...                 0                0                0   \n",
       "2            6750.0  ...                 0                0                0   \n",
       "3           29686.5  ...                 0                0                0   \n",
       "4           21865.5  ...                 0                0                0   \n",
       "...             ...  ...               ...              ...              ...   \n",
       "307506      27558.0  ...                 0                0                0   \n",
       "307507      12001.5  ...                 0                0                0   \n",
       "307508      29979.0  ...                 0                0                0   \n",
       "307509      20205.0  ...                 0                0                0   \n",
       "307510      49117.5  ...                 0                0                0   \n",
       "\n",
       "       FLAG_DOCUMENT_21 AMT_REQ_CREDIT_BUREAU_HOUR AMT_REQ_CREDIT_BUREAU_DAY  \\\n",
       "0                     0                        0.0                       0.0   \n",
       "1                     0                        0.0                       0.0   \n",
       "2                     0                        0.0                       0.0   \n",
       "3                     0                        NaN                       NaN   \n",
       "4                     0                        0.0                       0.0   \n",
       "...                 ...                        ...                       ...   \n",
       "307506                0                        NaN                       NaN   \n",
       "307507                0                        NaN                       NaN   \n",
       "307508                0                        1.0                       0.0   \n",
       "307509                0                        0.0                       0.0   \n",
       "307510                0                        0.0                       0.0   \n",
       "\n",
       "        AMT_REQ_CREDIT_BUREAU_WEEK  AMT_REQ_CREDIT_BUREAU_MON  \\\n",
       "0                              0.0                        0.0   \n",
       "1                              0.0                        0.0   \n",
       "2                              0.0                        0.0   \n",
       "3                              NaN                        NaN   \n",
       "4                              0.0                        0.0   \n",
       "...                            ...                        ...   \n",
       "307506                         NaN                        NaN   \n",
       "307507                         NaN                        NaN   \n",
       "307508                         0.0                        1.0   \n",
       "307509                         0.0                        0.0   \n",
       "307510                         0.0                        2.0   \n",
       "\n",
       "        AMT_REQ_CREDIT_BUREAU_QRT  AMT_REQ_CREDIT_BUREAU_YEAR  \n",
       "0                             0.0                         1.0  \n",
       "1                             0.0                         0.0  \n",
       "2                             0.0                         0.0  \n",
       "3                             NaN                         NaN  \n",
       "4                             0.0                         0.0  \n",
       "...                           ...                         ...  \n",
       "307506                        NaN                         NaN  \n",
       "307507                        NaN                         NaN  \n",
       "307508                        0.0                         1.0  \n",
       "307509                        0.0                         0.0  \n",
       "307510                        0.0                         1.0  \n",
       "\n",
       "[307511 rows x 122 columns]"
      ]
     },
     "execution_count": 3,
     "metadata": {},
     "output_type": "execute_result"
    }
   ],
   "source": [
    "df"
   ]
  },
  {
   "cell_type": "code",
   "execution_count": 4,
   "metadata": {},
   "outputs": [
    {
     "name": "stdout",
     "output_type": "stream",
     "text": [
      "<class 'pandas.core.frame.DataFrame'>\n",
      "RangeIndex: 307511 entries, 0 to 307510\n",
      "Data columns (total 122 columns):\n",
      " #    Column                        Dtype  \n",
      "---   ------                        -----  \n",
      " 0    SK_ID_CURR                    int64  \n",
      " 1    TARGET                        int64  \n",
      " 2    NAME_CONTRACT_TYPE            object \n",
      " 3    CODE_GENDER                   object \n",
      " 4    FLAG_OWN_CAR                  object \n",
      " 5    FLAG_OWN_REALTY               object \n",
      " 6    CNT_CHILDREN                  int64  \n",
      " 7    AMT_INCOME_TOTAL              float64\n",
      " 8    AMT_CREDIT                    float64\n",
      " 9    AMT_ANNUITY                   float64\n",
      " 10   AMT_GOODS_PRICE               float64\n",
      " 11   NAME_TYPE_SUITE               object \n",
      " 12   NAME_INCOME_TYPE              object \n",
      " 13   NAME_EDUCATION_TYPE           object \n",
      " 14   NAME_FAMILY_STATUS            object \n",
      " 15   NAME_HOUSING_TYPE             object \n",
      " 16   REGION_POPULATION_RELATIVE    float64\n",
      " 17   DAYS_BIRTH                    int64  \n",
      " 18   DAYS_EMPLOYED                 int64  \n",
      " 19   DAYS_REGISTRATION             float64\n",
      " 20   DAYS_ID_PUBLISH               int64  \n",
      " 21   OWN_CAR_AGE                   float64\n",
      " 22   FLAG_MOBIL                    int64  \n",
      " 23   FLAG_EMP_PHONE                int64  \n",
      " 24   FLAG_WORK_PHONE               int64  \n",
      " 25   FLAG_CONT_MOBILE              int64  \n",
      " 26   FLAG_PHONE                    int64  \n",
      " 27   FLAG_EMAIL                    int64  \n",
      " 28   OCCUPATION_TYPE               object \n",
      " 29   CNT_FAM_MEMBERS               float64\n",
      " 30   REGION_RATING_CLIENT          int64  \n",
      " 31   REGION_RATING_CLIENT_W_CITY   int64  \n",
      " 32   WEEKDAY_APPR_PROCESS_START    object \n",
      " 33   HOUR_APPR_PROCESS_START       int64  \n",
      " 34   REG_REGION_NOT_LIVE_REGION    int64  \n",
      " 35   REG_REGION_NOT_WORK_REGION    int64  \n",
      " 36   LIVE_REGION_NOT_WORK_REGION   int64  \n",
      " 37   REG_CITY_NOT_LIVE_CITY        int64  \n",
      " 38   REG_CITY_NOT_WORK_CITY        int64  \n",
      " 39   LIVE_CITY_NOT_WORK_CITY       int64  \n",
      " 40   ORGANIZATION_TYPE             object \n",
      " 41   EXT_SOURCE_1                  float64\n",
      " 42   EXT_SOURCE_2                  float64\n",
      " 43   EXT_SOURCE_3                  float64\n",
      " 44   APARTMENTS_AVG                float64\n",
      " 45   BASEMENTAREA_AVG              float64\n",
      " 46   YEARS_BEGINEXPLUATATION_AVG   float64\n",
      " 47   YEARS_BUILD_AVG               float64\n",
      " 48   COMMONAREA_AVG                float64\n",
      " 49   ELEVATORS_AVG                 float64\n",
      " 50   ENTRANCES_AVG                 float64\n",
      " 51   FLOORSMAX_AVG                 float64\n",
      " 52   FLOORSMIN_AVG                 float64\n",
      " 53   LANDAREA_AVG                  float64\n",
      " 54   LIVINGAPARTMENTS_AVG          float64\n",
      " 55   LIVINGAREA_AVG                float64\n",
      " 56   NONLIVINGAPARTMENTS_AVG       float64\n",
      " 57   NONLIVINGAREA_AVG             float64\n",
      " 58   APARTMENTS_MODE               float64\n",
      " 59   BASEMENTAREA_MODE             float64\n",
      " 60   YEARS_BEGINEXPLUATATION_MODE  float64\n",
      " 61   YEARS_BUILD_MODE              float64\n",
      " 62   COMMONAREA_MODE               float64\n",
      " 63   ELEVATORS_MODE                float64\n",
      " 64   ENTRANCES_MODE                float64\n",
      " 65   FLOORSMAX_MODE                float64\n",
      " 66   FLOORSMIN_MODE                float64\n",
      " 67   LANDAREA_MODE                 float64\n",
      " 68   LIVINGAPARTMENTS_MODE         float64\n",
      " 69   LIVINGAREA_MODE               float64\n",
      " 70   NONLIVINGAPARTMENTS_MODE      float64\n",
      " 71   NONLIVINGAREA_MODE            float64\n",
      " 72   APARTMENTS_MEDI               float64\n",
      " 73   BASEMENTAREA_MEDI             float64\n",
      " 74   YEARS_BEGINEXPLUATATION_MEDI  float64\n",
      " 75   YEARS_BUILD_MEDI              float64\n",
      " 76   COMMONAREA_MEDI               float64\n",
      " 77   ELEVATORS_MEDI                float64\n",
      " 78   ENTRANCES_MEDI                float64\n",
      " 79   FLOORSMAX_MEDI                float64\n",
      " 80   FLOORSMIN_MEDI                float64\n",
      " 81   LANDAREA_MEDI                 float64\n",
      " 82   LIVINGAPARTMENTS_MEDI         float64\n",
      " 83   LIVINGAREA_MEDI               float64\n",
      " 84   NONLIVINGAPARTMENTS_MEDI      float64\n",
      " 85   NONLIVINGAREA_MEDI            float64\n",
      " 86   FONDKAPREMONT_MODE            object \n",
      " 87   HOUSETYPE_MODE                object \n",
      " 88   TOTALAREA_MODE                float64\n",
      " 89   WALLSMATERIAL_MODE            object \n",
      " 90   EMERGENCYSTATE_MODE           object \n",
      " 91   OBS_30_CNT_SOCIAL_CIRCLE      float64\n",
      " 92   DEF_30_CNT_SOCIAL_CIRCLE      float64\n",
      " 93   OBS_60_CNT_SOCIAL_CIRCLE      float64\n",
      " 94   DEF_60_CNT_SOCIAL_CIRCLE      float64\n",
      " 95   DAYS_LAST_PHONE_CHANGE        float64\n",
      " 96   FLAG_DOCUMENT_2               int64  \n",
      " 97   FLAG_DOCUMENT_3               int64  \n",
      " 98   FLAG_DOCUMENT_4               int64  \n",
      " 99   FLAG_DOCUMENT_5               int64  \n",
      " 100  FLAG_DOCUMENT_6               int64  \n",
      " 101  FLAG_DOCUMENT_7               int64  \n",
      " 102  FLAG_DOCUMENT_8               int64  \n",
      " 103  FLAG_DOCUMENT_9               int64  \n",
      " 104  FLAG_DOCUMENT_10              int64  \n",
      " 105  FLAG_DOCUMENT_11              int64  \n",
      " 106  FLAG_DOCUMENT_12              int64  \n",
      " 107  FLAG_DOCUMENT_13              int64  \n",
      " 108  FLAG_DOCUMENT_14              int64  \n",
      " 109  FLAG_DOCUMENT_15              int64  \n",
      " 110  FLAG_DOCUMENT_16              int64  \n",
      " 111  FLAG_DOCUMENT_17              int64  \n",
      " 112  FLAG_DOCUMENT_18              int64  \n",
      " 113  FLAG_DOCUMENT_19              int64  \n",
      " 114  FLAG_DOCUMENT_20              int64  \n",
      " 115  FLAG_DOCUMENT_21              int64  \n",
      " 116  AMT_REQ_CREDIT_BUREAU_HOUR    float64\n",
      " 117  AMT_REQ_CREDIT_BUREAU_DAY     float64\n",
      " 118  AMT_REQ_CREDIT_BUREAU_WEEK    float64\n",
      " 119  AMT_REQ_CREDIT_BUREAU_MON     float64\n",
      " 120  AMT_REQ_CREDIT_BUREAU_QRT     float64\n",
      " 121  AMT_REQ_CREDIT_BUREAU_YEAR    float64\n",
      "dtypes: float64(65), int64(41), object(16)\n",
      "memory usage: 286.2+ MB\n"
     ]
    }
   ],
   "source": [
    "df.info(10) # la base de datos original tiene 122 columnas y 307511 filas"
   ]
  },
  {
   "cell_type": "code",
   "execution_count": 5,
   "metadata": {},
   "outputs": [],
   "source": [
    "#elimina filas con datos faltantes\n",
    "df = df.dropna()"
   ]
  },
  {
   "cell_type": "code",
   "execution_count": 6,
   "metadata": {},
   "outputs": [
    {
     "data": {
      "text/plain": [
       "8602"
      ]
     },
     "execution_count": 6,
     "metadata": {},
     "output_type": "execute_result"
    }
   ],
   "source": [
    "len(df) # la base de datos se reduce a 8602 filas"
   ]
  },
  {
   "cell_type": "code",
   "execution_count": 7,
   "metadata": {},
   "outputs": [
    {
     "data": {
      "text/plain": [
       "TARGET\n",
       "0    8076\n",
       "1     526\n",
       "Name: count, dtype: int64"
      ]
     },
     "execution_count": 7,
     "metadata": {},
     "output_type": "execute_result"
    }
   ],
   "source": [
    "df['TARGET'].value_counts() # la base de datos esta desbalanceada, hay 8076 filas con TARGET=0 y 526 filas con TARGET=1"
   ]
  },
  {
   "cell_type": "code",
   "execution_count": 21,
   "metadata": {},
   "outputs": [
    {
     "data": {
      "text/html": [
       "<div>\n",
       "<style scoped>\n",
       "    .dataframe tbody tr th:only-of-type {\n",
       "        vertical-align: middle;\n",
       "    }\n",
       "\n",
       "    .dataframe tbody tr th {\n",
       "        vertical-align: top;\n",
       "    }\n",
       "\n",
       "    .dataframe thead th {\n",
       "        text-align: right;\n",
       "    }\n",
       "</style>\n",
       "<table border=\"1\" class=\"dataframe\">\n",
       "  <thead>\n",
       "    <tr style=\"text-align: right;\">\n",
       "      <th></th>\n",
       "      <th>AMT_INCOME_TOTAL</th>\n",
       "      <th>AMT_CREDIT</th>\n",
       "      <th>AMT_ANNUITY</th>\n",
       "    </tr>\n",
       "  </thead>\n",
       "  <tbody>\n",
       "    <tr>\n",
       "      <th>count</th>\n",
       "      <td>8602.000</td>\n",
       "      <td>8602.000</td>\n",
       "      <td>8602.000</td>\n",
       "    </tr>\n",
       "    <tr>\n",
       "      <th>mean</th>\n",
       "      <td>222872.414</td>\n",
       "      <td>699998.702</td>\n",
       "      <td>31558.948</td>\n",
       "    </tr>\n",
       "    <tr>\n",
       "      <th>std</th>\n",
       "      <td>141420.412</td>\n",
       "      <td>464911.859</td>\n",
       "      <td>16587.353</td>\n",
       "    </tr>\n",
       "    <tr>\n",
       "      <th>min</th>\n",
       "      <td>33750.000</td>\n",
       "      <td>45000.000</td>\n",
       "      <td>2317.500</td>\n",
       "    </tr>\n",
       "    <tr>\n",
       "      <th>25%</th>\n",
       "      <td>135000.000</td>\n",
       "      <td>315000.000</td>\n",
       "      <td>19548.000</td>\n",
       "    </tr>\n",
       "    <tr>\n",
       "      <th>50%</th>\n",
       "      <td>193500.000</td>\n",
       "      <td>585000.000</td>\n",
       "      <td>29209.500</td>\n",
       "    </tr>\n",
       "    <tr>\n",
       "      <th>75%</th>\n",
       "      <td>270000.000</td>\n",
       "      <td>958144.500</td>\n",
       "      <td>40320.000</td>\n",
       "    </tr>\n",
       "    <tr>\n",
       "      <th>max</th>\n",
       "      <td>4500000.000</td>\n",
       "      <td>4050000.000</td>\n",
       "      <td>225000.000</td>\n",
       "    </tr>\n",
       "  </tbody>\n",
       "</table>\n",
       "</div>"
      ],
      "text/plain": [
       "       AMT_INCOME_TOTAL  AMT_CREDIT  AMT_ANNUITY\n",
       "count          8602.000    8602.000     8602.000\n",
       "mean         222872.414  699998.702    31558.948\n",
       "std          141420.412  464911.859    16587.353\n",
       "min           33750.000   45000.000     2317.500\n",
       "25%          135000.000  315000.000    19548.000\n",
       "50%          193500.000  585000.000    29209.500\n",
       "75%          270000.000  958144.500    40320.000\n",
       "max         4500000.000 4050000.000   225000.000"
      ]
     },
     "execution_count": 21,
     "metadata": {},
     "output_type": "execute_result"
    }
   ],
   "source": [
    "#estadisticas descriptivas de las variables AMT_INCOME_TOTAL\tAMT_CREDIT\tAMT_ANNUITY\n",
    "df[['AMT_INCOME_TOTAL','AMT_CREDIT','AMT_ANNUITY']].describe()"
   ]
  },
  {
   "cell_type": "code",
   "execution_count": 8,
   "metadata": {},
   "outputs": [
    {
     "data": {
      "image/png": "[encoded data removed]",
      "text/plain": [
       "<Figure size 640x480 with 1 Axes>"
      ]
     },
     "metadata": {},
     "output_type": "display_data"
    }
   ],
   "source": [
    "\n",
    "df['TARGET'].value_counts().plot(kind=\"bar\",color=\"lightcoral\",edgecolor=\"black\")\n",
    "plt.ylabel(\"número de transacciones\")\n",
    "#guarda la imagen\n",
    "plt.savefig(\"grafico.pdf\")\n",
    "plt.show()"
   ]
  },
  {
   "cell_type": "code",
   "execution_count": 14,
   "metadata": {},
   "outputs": [
    {
     "data": {
      "image/png": "[encoded data removed]",
      "text/plain": [
       "<Figure size 640x480 with 1 Axes>"
      ]
     },
     "metadata": {},
     "output_type": "display_data"
    }
   ],
   "source": [
    "df['NAME_CONTRACT_TYPE'].value_counts().plot(kind=\"bar\",color=\"lightcoral\",edgecolor=\"black\")\n",
    "#texto en eje X 45 grados\n",
    "plt.xticks(rotation=45)\n",
    "plt.xlabel(\"\")\n",
    "plt.show()"
   ]
  },
  {
   "cell_type": "code",
   "execution_count": 15,
   "metadata": {},
   "outputs": [
    {
     "data": {
      "image/png": "[encoded data removed]",
      "text/plain": [
       "<Figure size 640x480 with 1 Axes>"
      ]
     },
     "metadata": {},
     "output_type": "display_data"
    }
   ],
   "source": [
    "df['NAME_INCOME_TYPE'].value_counts().plot(kind=\"bar\",color=\"lightcoral\",edgecolor=\"black\")\n",
    "#texto en eje X 45 grados\n",
    "plt.xticks(rotation=45)\n",
    "plt.xlabel(\"\")\n",
    "plt.show()"
   ]
  },
  {
   "cell_type": "code",
   "execution_count": 16,
   "metadata": {},
   "outputs": [
    {
     "data": {
      "image/png": "[encoded data removed]",
      "text/plain": [
       "<Figure size 640x480 with 1 Axes>"
      ]
     },
     "metadata": {},
     "output_type": "display_data"
    }
   ],
   "source": [
    "df['WEEKDAY_APPR_PROCESS_START'].value_counts().plot(kind=\"bar\",color=\"lightcoral\",edgecolor=\"black\")\n",
    "#texto en eje X 45 grados\n",
    "plt.xticks(rotation=45)\n",
    "plt.xlabel(\"\")\n",
    "plt.show()"
   ]
  },
  {
   "cell_type": "code",
   "execution_count": 9,
   "metadata": {},
   "outputs": [],
   "source": [
    "#seleccion de variables, X son las variables independientes e y es la variable dependiente\n",
    "\n",
    "X = df.drop('TARGET', axis=1)\n",
    "y= df['TARGET']"
   ]
  },
  {
   "cell_type": "code",
   "execution_count": 10,
   "metadata": {},
   "outputs": [
    {
     "data": {
      "application/vnd.plotly.v1+json": {
       "config": {
        "plotlyServerURL": "https://plot.ly"
       },
       "data": [
        {
         "domain": {
          "x": [
           0,
           1
          ],
          "y": [
           0,
           1
          ]
         },
         "hovertemplate": "label=%{label}<br>value=%{value}<extra></extra>",
         "labels": [
          "Real",
          "Fraude"
         ],
         "legendgroup": "",
         "name": "",
         "showlegend": true,
         "type": "pie",
         "values": [
          8076,
          526
         ]
        }
       ],
       "layout": {
        "height": 400,
        "legend": {
         "tracegroupgap": 0
        },
        "piecolorway": [
         "skyblue",
         "black"
        ],
        "template": {
         "data": {
          "bar": [
           {
            "error_x": {
             "color": "#2a3f5f"
            },
            "error_y": {
             "color": "#2a3f5f"
            },
            "marker": {
             "line": {
              "color": "#E5ECF6",
              "width": 0.5
             },
             "pattern": {
              "fillmode": "overlay",
              "size": 10,
              "solidity": 0.2
             }
            },
            "type": "bar"
           }
          ],
          "barpolar": [
           {
            "marker": {
             "line": {
              "color": "#E5ECF6",
              "width": 0.5
             },
             "pattern": {
              "fillmode": "overlay",
              "size": 10,
              "solidity": 0.2
             }
            },
            "type": "barpolar"
           }
          ],
          "carpet": [
           {
            "aaxis": {
             "endlinecolor": "#2a3f5f",
             "gridcolor": "white",
             "linecolor": "white",
             "minorgridcolor": "white",
             "startlinecolor": "#2a3f5f"
            },
            "baxis": {
             "endlinecolor": "#2a3f5f",
             "gridcolor": "white",
             "linecolor": "white",
             "minorgridcolor": "white",
             "startlinecolor": "#2a3f5f"
            },
            "type": "carpet"
           }
          ],
          "choropleth": [
           {
            "colorbar": {
             "outlinewidth": 0,
             "ticks": ""
            },
            "type": "choropleth"
           }
          ],
          "contour": [
           {
            "colorbar": {
             "outlinewidth": 0,
             "ticks": ""
            },
            "colorscale": [
             [
              0,
              "#0d0887"
             ],
             [
              0.1111111111111111,
              "#46039f"
             ],
             [
              0.2222222222222222,
              "#7201a8"
             ],
             [
              0.3333333333333333,
              "#9c179e"
             ],
             [
              0.4444444444444444,
              "#bd3786"
             ],
             [
              0.5555555555555556,
              "#d8576b"
             ],
             [
              0.6666666666666666,
              "#ed7953"
             ],
             [
              0.7777777777777778,
              "#fb9f3a"
             ],
             [
              0.8888888888888888,
              "#fdca26"
             ],
             [
              1,
              "#f0f921"
             ]
            ],
            "type": "contour"
           }
          ],
          "contourcarpet": [
           {
            "colorbar": {
             "outlinewidth": 0,
             "ticks": ""
            },
            "type": "contourcarpet"
           }
          ],
          "heatmap": [
           {
            "colorbar": {
             "outlinewidth": 0,
             "ticks": ""
            },
            "colorscale": [
             [
              0,
              "#0d0887"
             ],
             [
              0.1111111111111111,
              "#46039f"
             ],
             [
              0.2222222222222222,
              "#7201a8"
             ],
             [
              0.3333333333333333,
              "#9c179e"
             ],
             [
              0.4444444444444444,
              "#bd3786"
             ],
             [
              0.5555555555555556,
              "#d8576b"
             ],
             [
              0.6666666666666666,
              "#ed7953"
             ],
             [
              0.7777777777777778,
              "#fb9f3a"
             ],
             [
              0.8888888888888888,
              "#fdca26"
             ],
             [
              1,
              "#f0f921"
             ]
            ],
            "type": "heatmap"
           }
          ],
          "heatmapgl": [
           {
            "colorbar": {
             "outlinewidth": 0,
             "ticks": ""
            },
            "colorscale": [
             [
              0,
              "#0d0887"
             ],
             [
              0.1111111111111111,
              "#46039f"
             ],
             [
              0.2222222222222222,
              "#7201a8"
             ],
             [
              0.3333333333333333,
              "#9c179e"
             ],
             [
              0.4444444444444444,
              "#bd3786"
             ],
             [
              0.5555555555555556,
              "#d8576b"
             ],
             [
              0.6666666666666666,
              "#ed7953"
             ],
             [
              0.7777777777777778,
              "#fb9f3a"
             ],
             [
              0.8888888888888888,
              "#fdca26"
             ],
             [
              1,
              "#f0f921"
             ]
            ],
            "type": "heatmapgl"
           }
          ],
          "histogram": [
           {
            "marker": {
             "pattern": {
              "fillmode": "overlay",
              "size": 10,
              "solidity": 0.2
             }
            },
            "type": "histogram"
           }
          ],
          "histogram2d": [
           {
            "colorbar": {
             "outlinewidth": 0,
             "ticks": ""
            },
            "colorscale": [
             [
              0,
              "#0d0887"
             ],
             [
              0.1111111111111111,
              "#46039f"
             ],
             [
              0.2222222222222222,
              "#7201a8"
             ],
             [
              0.3333333333333333,
              "#9c179e"
             ],
             [
              0.4444444444444444,
              "#bd3786"
             ],
             [
              0.5555555555555556,
              "#d8576b"
             ],
             [
              0.6666666666666666,
              "#ed7953"
             ],
             [
              0.7777777777777778,
              "#fb9f3a"
             ],
             [
              0.8888888888888888,
              "#fdca26"
             ],
             [
              1,
              "#f0f921"
             ]
            ],
            "type": "histogram2d"
           }
          ],
          "histogram2dcontour": [
           {
            "colorbar": {
             "outlinewidth": 0,
             "ticks": ""
            },
            "colorscale": [
             [
              0,
              "#0d0887"
             ],
             [
              0.1111111111111111,
              "#46039f"
             ],
             [
              0.2222222222222222,
              "#7201a8"
             ],
             [
              0.3333333333333333,
              "#9c179e"
             ],
             [
              0.4444444444444444,
              "#bd3786"
             ],
             [
              0.5555555555555556,
              "#d8576b"
             ],
             [
              0.6666666666666666,
              "#ed7953"
             ],
             [
              0.7777777777777778,
              "#fb9f3a"
             ],
             [
              0.8888888888888888,
              "#fdca26"
             ],
             [
              1,
              "#f0f921"
             ]
            ],
            "type": "histogram2dcontour"
           }
          ],
          "mesh3d": [
           {
            "colorbar": {
             "outlinewidth": 0,
             "ticks": ""
            },
            "type": "mesh3d"
           }
          ],
          "parcoords": [
           {
            "line": {
             "colorbar": {
              "outlinewidth": 0,
              "ticks": ""
             }
            },
            "type": "parcoords"
           }
          ],
          "pie": [
           {
            "automargin": true,
            "type": "pie"
           }
          ],
          "scatter": [
           {
            "fillpattern": {
             "fillmode": "overlay",
             "size": 10,
             "solidity": 0.2
            },
            "type": "scatter"
           }
          ],
          "scatter3d": [
           {
            "line": {
             "colorbar": {
              "outlinewidth": 0,
              "ticks": ""
             }
            },
            "marker": {
             "colorbar": {
              "outlinewidth": 0,
              "ticks": ""
             }
            },
            "type": "scatter3d"
           }
          ],
          "scattercarpet": [
           {
            "marker": {
             "colorbar": {
              "outlinewidth": 0,
              "ticks": ""
             }
            },
            "type": "scattercarpet"
           }
          ],
          "scattergeo": [
           {
            "marker": {
             "colorbar": {
              "outlinewidth": 0,
              "ticks": ""
             }
            },
            "type": "scattergeo"
           }
          ],
          "scattergl": [
           {
            "marker": {
             "colorbar": {
              "outlinewidth": 0,
              "ticks": ""
             }
            },
            "type": "scattergl"
           }
          ],
          "scattermapbox": [
           {
            "marker": {
             "colorbar": {
              "outlinewidth": 0,
              "ticks": ""
             }
            },
            "type": "scattermapbox"
           }
          ],
          "scatterpolar": [
           {
            "marker": {
             "colorbar": {
              "outlinewidth": 0,
              "ticks": ""
             }
            },
            "type": "scatterpolar"
           }
          ],
          "scatterpolargl": [
           {
            "marker": {
             "colorbar": {
              "outlinewidth": 0,
              "ticks": ""
             }
            },
            "type": "scatterpolargl"
           }
          ],
          "scatterternary": [
           {
            "marker": {
             "colorbar": {
              "outlinewidth": 0,
              "ticks": ""
             }
            },
            "type": "scatterternary"
           }
          ],
          "surface": [
           {
            "colorbar": {
             "outlinewidth": 0,
             "ticks": ""
            },
            "colorscale": [
             [
              0,
              "#0d0887"
             ],
             [
              0.1111111111111111,
              "#46039f"
             ],
             [
              0.2222222222222222,
              "#7201a8"
             ],
             [
              0.3333333333333333,
              "#9c179e"
             ],
             [
              0.4444444444444444,
              "#bd3786"
             ],
             [
              0.5555555555555556,
              "#d8576b"
             ],
             [
              0.6666666666666666,
              "#ed7953"
             ],
             [
              0.7777777777777778,
              "#fb9f3a"
             ],
             [
              0.8888888888888888,
              "#fdca26"
             ],
             [
              1,
              "#f0f921"
             ]
            ],
            "type": "surface"
           }
          ],
          "table": [
           {
            "cells": {
             "fill": {
              "color": "#EBF0F8"
             },
             "line": {
              "color": "white"
             }
            },
            "header": {
             "fill": {
              "color": "#C8D4E3"
             },
             "line": {
              "color": "white"
             }
            },
            "type": "table"
           }
          ]
         },
         "layout": {
          "annotationdefaults": {
           "arrowcolor": "#2a3f5f",
           "arrowhead": 0,
           "arrowwidth": 1
          },
          "autotypenumbers": "strict",
          "coloraxis": {
           "colorbar": {
            "outlinewidth": 0,
            "ticks": ""
           }
          },
          "colorscale": {
           "diverging": [
            [
             0,
             "#8e0152"
            ],
            [
             0.1,
             "#c51b7d"
            ],
            [
             0.2,
             "#de77ae"
            ],
            [
             0.3,
             "#f1b6da"
            ],
            [
             0.4,
             "#fde0ef"
            ],
            [
             0.5,
             "#f7f7f7"
            ],
            [
             0.6,
             "#e6f5d0"
            ],
            [
             0.7,
             "#b8e186"
            ],
            [
             0.8,
             "#7fbc41"
            ],
            [
             0.9,
             "#4d9221"
            ],
            [
             1,
             "#276419"
            ]
           ],
           "sequential": [
            [
             0,
             "#0d0887"
            ],
            [
             0.1111111111111111,
             "#46039f"
            ],
            [
             0.2222222222222222,
             "#7201a8"
            ],
            [
             0.3333333333333333,
             "#9c179e"
            ],
            [
             0.4444444444444444,
             "#bd3786"
            ],
            [
             0.5555555555555556,
             "#d8576b"
            ],
            [
             0.6666666666666666,
             "#ed7953"
            ],
            [
             0.7777777777777778,
             "#fb9f3a"
            ],
            [
             0.8888888888888888,
             "#fdca26"
            ],
            [
             1,
             "#f0f921"
            ]
           ],
           "sequentialminus": [
            [
             0,
             "#0d0887"
            ],
            [
             0.1111111111111111,
             "#46039f"
            ],
            [
             0.2222222222222222,
             "#7201a8"
            ],
            [
             0.3333333333333333,
             "#9c179e"
            ],
            [
             0.4444444444444444,
             "#bd3786"
            ],
            [
             0.5555555555555556,
             "#d8576b"
            ],
            [
             0.6666666666666666,
             "#ed7953"
            ],
            [
             0.7777777777777778,
             "#fb9f3a"
            ],
            [
             0.8888888888888888,
             "#fdca26"
            ],
            [
             1,
             "#f0f921"
            ]
           ]
          },
          "colorway": [
           "#636efa",
           "#EF553B",
           "#00cc96",
           "#ab63fa",
           "#FFA15A",
           "#19d3f3",
           "#FF6692",
           "#B6E880",
           "#FF97FF",
           "#FECB52"
          ],
          "font": {
           "color": "#2a3f5f"
          },
          "geo": {
           "bgcolor": "white",
           "lakecolor": "white",
           "landcolor": "#E5ECF6",
           "showlakes": true,
           "showland": true,
           "subunitcolor": "white"
          },
          "hoverlabel": {
           "align": "left"
          },
          "hovermode": "closest",
          "mapbox": {
           "style": "light"
          },
          "paper_bgcolor": "white",
          "plot_bgcolor": "#E5ECF6",
          "polar": {
           "angularaxis": {
            "gridcolor": "white",
            "linecolor": "white",
            "ticks": ""
           },
           "bgcolor": "#E5ECF6",
           "radialaxis": {
            "gridcolor": "white",
            "linecolor": "white",
            "ticks": ""
           }
          },
          "scene": {
           "xaxis": {
            "backgroundcolor": "#E5ECF6",
            "gridcolor": "white",
            "gridwidth": 2,
            "linecolor": "white",
            "showbackground": true,
            "ticks": "",
            "zerolinecolor": "white"
           },
           "yaxis": {
            "backgroundcolor": "#E5ECF6",
            "gridcolor": "white",
            "gridwidth": 2,
            "linecolor": "white",
            "showbackground": true,
            "ticks": "",
            "zerolinecolor": "white"
           },
           "zaxis": {
            "backgroundcolor": "#E5ECF6",
            "gridcolor": "white",
            "gridwidth": 2,
            "linecolor": "white",
            "showbackground": true,
            "ticks": "",
            "zerolinecolor": "white"
           }
          },
          "shapedefaults": {
           "line": {
            "color": "#2a3f5f"
           }
          },
          "ternary": {
           "aaxis": {
            "gridcolor": "white",
            "linecolor": "white",
            "ticks": ""
           },
           "baxis": {
            "gridcolor": "white",
            "linecolor": "white",
            "ticks": ""
           },
           "bgcolor": "#E5ECF6",
           "caxis": {
            "gridcolor": "white",
            "linecolor": "white",
            "ticks": ""
           }
          },
          "title": {
           "x": 0.05
          },
          "xaxis": {
           "automargin": true,
           "gridcolor": "white",
           "linecolor": "white",
           "ticks": "",
           "title": {
            "standoff": 15
           },
           "zerolinecolor": "white",
           "zerolinewidth": 2
          },
          "yaxis": {
           "automargin": true,
           "gridcolor": "white",
           "linecolor": "white",
           "ticks": "",
           "title": {
            "standoff": 15
           },
           "zerolinecolor": "white",
           "zerolinewidth": 2
          }
         }
        },
        "title": {
         "text": "Fraude vs Transacciones Verdaderas"
        },
        "width": 700
       }
      }
     },
     "metadata": {},
     "output_type": "display_data"
    }
   ],
   "source": [
    "labels=[\"Real\",\"Fraude\"]\n",
    "\n",
    "fraud_or_not = df[\"TARGET\"].value_counts().tolist()\n",
    "values = [fraud_or_not[0], fraud_or_not[1]]\n",
    "\n",
    "fig = px.pie(values=df['TARGET'].value_counts(), names=labels , width=700, height=400, color_discrete_sequence=[\"skyblue\",\"black\"]\n",
    "             ,title=\"Fraude vs Transacciones Verdaderas\")\n",
    "fig.show()"
   ]
  },
  {
   "cell_type": "code",
   "execution_count": 11,
   "metadata": {},
   "outputs": [],
   "source": [
    "#crea dummy variables\n",
    "X = pd.get_dummies(X)"
   ]
  },
  {
   "cell_type": "code",
   "execution_count": 12,
   "metadata": {},
   "outputs": [
    {
     "name": "stdout",
     "output_type": "stream",
     "text": [
      "<class 'pandas.core.frame.DataFrame'>\n",
      "Index: 8602 entries, 71 to 307482\n",
      "Data columns (total 234 columns):\n",
      " #    Column                                             Dtype  \n",
      "---   ------                                             -----  \n",
      " 0    SK_ID_CURR                                         int64  \n",
      " 1    CNT_CHILDREN                                       int64  \n",
      " 2    AMT_INCOME_TOTAL                                   float64\n",
      " 3    AMT_CREDIT                                         float64\n",
      " 4    AMT_ANNUITY                                        float64\n",
      " 5    AMT_GOODS_PRICE                                    float64\n",
      " 6    REGION_POPULATION_RELATIVE                         float64\n",
      " 7    DAYS_BIRTH                                         int64  \n",
      " 8    DAYS_EMPLOYED                                      int64  \n",
      " 9    DAYS_REGISTRATION                                  float64\n",
      " 10   DAYS_ID_PUBLISH                                    int64  \n",
      " 11   OWN_CAR_AGE                                        float64\n",
      " 12   FLAG_MOBIL                                         int64  \n",
      " 13   FLAG_EMP_PHONE                                     int64  \n",
      " 14   FLAG_WORK_PHONE                                    int64  \n",
      " 15   FLAG_CONT_MOBILE                                   int64  \n",
      " 16   FLAG_PHONE                                         int64  \n",
      " 17   FLAG_EMAIL                                         int64  \n",
      " 18   CNT_FAM_MEMBERS                                    float64\n",
      " 19   REGION_RATING_CLIENT                               int64  \n",
      " 20   REGION_RATING_CLIENT_W_CITY                        int64  \n",
      " 21   HOUR_APPR_PROCESS_START                            int64  \n",
      " 22   REG_REGION_NOT_LIVE_REGION                         int64  \n",
      " 23   REG_REGION_NOT_WORK_REGION                         int64  \n",
      " 24   LIVE_REGION_NOT_WORK_REGION                        int64  \n",
      " 25   REG_CITY_NOT_LIVE_CITY                             int64  \n",
      " 26   REG_CITY_NOT_WORK_CITY                             int64  \n",
      " 27   LIVE_CITY_NOT_WORK_CITY                            int64  \n",
      " 28   EXT_SOURCE_1                                       float64\n",
      " 29   EXT_SOURCE_2                                       float64\n",
      " 30   EXT_SOURCE_3                                       float64\n",
      " 31   APARTMENTS_AVG                                     float64\n",
      " 32   BASEMENTAREA_AVG                                   float64\n",
      " 33   YEARS_BEGINEXPLUATATION_AVG                        float64\n",
      " 34   YEARS_BUILD_AVG                                    float64\n",
      " 35   COMMONAREA_AVG                                     float64\n",
      " 36   ELEVATORS_AVG                                      float64\n",
      " 37   ENTRANCES_AVG                                      float64\n",
      " 38   FLOORSMAX_AVG                                      float64\n",
      " 39   FLOORSMIN_AVG                                      float64\n",
      " 40   LANDAREA_AVG                                       float64\n",
      " 41   LIVINGAPARTMENTS_AVG                               float64\n",
      " 42   LIVINGAREA_AVG                                     float64\n",
      " 43   NONLIVINGAPARTMENTS_AVG                            float64\n",
      " 44   NONLIVINGAREA_AVG                                  float64\n",
      " 45   APARTMENTS_MODE                                    float64\n",
      " 46   BASEMENTAREA_MODE                                  float64\n",
      " 47   YEARS_BEGINEXPLUATATION_MODE                       float64\n",
      " 48   YEARS_BUILD_MODE                                   float64\n",
      " 49   COMMONAREA_MODE                                    float64\n",
      " 50   ELEVATORS_MODE                                     float64\n",
      " 51   ENTRANCES_MODE                                     float64\n",
      " 52   FLOORSMAX_MODE                                     float64\n",
      " 53   FLOORSMIN_MODE                                     float64\n",
      " 54   LANDAREA_MODE                                      float64\n",
      " 55   LIVINGAPARTMENTS_MODE                              float64\n",
      " 56   LIVINGAREA_MODE                                    float64\n",
      " 57   NONLIVINGAPARTMENTS_MODE                           float64\n",
      " 58   NONLIVINGAREA_MODE                                 float64\n",
      " 59   APARTMENTS_MEDI                                    float64\n",
      " 60   BASEMENTAREA_MEDI                                  float64\n",
      " 61   YEARS_BEGINEXPLUATATION_MEDI                       float64\n",
      " 62   YEARS_BUILD_MEDI                                   float64\n",
      " 63   COMMONAREA_MEDI                                    float64\n",
      " 64   ELEVATORS_MEDI                                     float64\n",
      " 65   ENTRANCES_MEDI                                     float64\n",
      " 66   FLOORSMAX_MEDI                                     float64\n",
      " 67   FLOORSMIN_MEDI                                     float64\n",
      " 68   LANDAREA_MEDI                                      float64\n",
      " 69   LIVINGAPARTMENTS_MEDI                              float64\n",
      " 70   LIVINGAREA_MEDI                                    float64\n",
      " 71   NONLIVINGAPARTMENTS_MEDI                           float64\n",
      " 72   NONLIVINGAREA_MEDI                                 float64\n",
      " 73   TOTALAREA_MODE                                     float64\n",
      " 74   OBS_30_CNT_SOCIAL_CIRCLE                           float64\n",
      " 75   DEF_30_CNT_SOCIAL_CIRCLE                           float64\n",
      " 76   OBS_60_CNT_SOCIAL_CIRCLE                           float64\n",
      " 77   DEF_60_CNT_SOCIAL_CIRCLE                           float64\n",
      " 78   DAYS_LAST_PHONE_CHANGE                             float64\n",
      " 79   FLAG_DOCUMENT_2                                    int64  \n",
      " 80   FLAG_DOCUMENT_3                                    int64  \n",
      " 81   FLAG_DOCUMENT_4                                    int64  \n",
      " 82   FLAG_DOCUMENT_5                                    int64  \n",
      " 83   FLAG_DOCUMENT_6                                    int64  \n",
      " 84   FLAG_DOCUMENT_7                                    int64  \n",
      " 85   FLAG_DOCUMENT_8                                    int64  \n",
      " 86   FLAG_DOCUMENT_9                                    int64  \n",
      " 87   FLAG_DOCUMENT_10                                   int64  \n",
      " 88   FLAG_DOCUMENT_11                                   int64  \n",
      " 89   FLAG_DOCUMENT_12                                   int64  \n",
      " 90   FLAG_DOCUMENT_13                                   int64  \n",
      " 91   FLAG_DOCUMENT_14                                   int64  \n",
      " 92   FLAG_DOCUMENT_15                                   int64  \n",
      " 93   FLAG_DOCUMENT_16                                   int64  \n",
      " 94   FLAG_DOCUMENT_17                                   int64  \n",
      " 95   FLAG_DOCUMENT_18                                   int64  \n",
      " 96   FLAG_DOCUMENT_19                                   int64  \n",
      " 97   FLAG_DOCUMENT_20                                   int64  \n",
      " 98   FLAG_DOCUMENT_21                                   int64  \n",
      " 99   AMT_REQ_CREDIT_BUREAU_HOUR                         float64\n",
      " 100  AMT_REQ_CREDIT_BUREAU_DAY                          float64\n",
      " 101  AMT_REQ_CREDIT_BUREAU_WEEK                         float64\n",
      " 102  AMT_REQ_CREDIT_BUREAU_MON                          float64\n",
      " 103  AMT_REQ_CREDIT_BUREAU_QRT                          float64\n",
      " 104  AMT_REQ_CREDIT_BUREAU_YEAR                         float64\n",
      " 105  NAME_CONTRACT_TYPE_Cash loans                      bool   \n",
      " 106  NAME_CONTRACT_TYPE_Revolving loans                 bool   \n",
      " 107  CODE_GENDER_F                                      bool   \n",
      " 108  CODE_GENDER_M                                      bool   \n",
      " 109  FLAG_OWN_CAR_Y                                     bool   \n",
      " 110  FLAG_OWN_REALTY_N                                  bool   \n",
      " 111  FLAG_OWN_REALTY_Y                                  bool   \n",
      " 112  NAME_TYPE_SUITE_Children                           bool   \n",
      " 113  NAME_TYPE_SUITE_Family                             bool   \n",
      " 114  NAME_TYPE_SUITE_Group of people                    bool   \n",
      " 115  NAME_TYPE_SUITE_Other_A                            bool   \n",
      " 116  NAME_TYPE_SUITE_Other_B                            bool   \n",
      " 117  NAME_TYPE_SUITE_Spouse, partner                    bool   \n",
      " 118  NAME_TYPE_SUITE_Unaccompanied                      bool   \n",
      " 119  NAME_INCOME_TYPE_Commercial associate              bool   \n",
      " 120  NAME_INCOME_TYPE_State servant                     bool   \n",
      " 121  NAME_INCOME_TYPE_Working                           bool   \n",
      " 122  NAME_EDUCATION_TYPE_Academic degree                bool   \n",
      " 123  NAME_EDUCATION_TYPE_Higher education               bool   \n",
      " 124  NAME_EDUCATION_TYPE_Incomplete higher              bool   \n",
      " 125  NAME_EDUCATION_TYPE_Lower secondary                bool   \n",
      " 126  NAME_EDUCATION_TYPE_Secondary / secondary special  bool   \n",
      " 127  NAME_FAMILY_STATUS_Civil marriage                  bool   \n",
      " 128  NAME_FAMILY_STATUS_Married                         bool   \n",
      " 129  NAME_FAMILY_STATUS_Separated                       bool   \n",
      " 130  NAME_FAMILY_STATUS_Single / not married            bool   \n",
      " 131  NAME_FAMILY_STATUS_Widow                           bool   \n",
      " 132  NAME_HOUSING_TYPE_Co-op apartment                  bool   \n",
      " 133  NAME_HOUSING_TYPE_House / apartment                bool   \n",
      " 134  NAME_HOUSING_TYPE_Municipal apartment              bool   \n",
      " 135  NAME_HOUSING_TYPE_Office apartment                 bool   \n",
      " 136  NAME_HOUSING_TYPE_Rented apartment                 bool   \n",
      " 137  NAME_HOUSING_TYPE_With parents                     bool   \n",
      " 138  OCCUPATION_TYPE_Accountants                        bool   \n",
      " 139  OCCUPATION_TYPE_Cleaning staff                     bool   \n",
      " 140  OCCUPATION_TYPE_Cooking staff                      bool   \n",
      " 141  OCCUPATION_TYPE_Core staff                         bool   \n",
      " 142  OCCUPATION_TYPE_Drivers                            bool   \n",
      " 143  OCCUPATION_TYPE_HR staff                           bool   \n",
      " 144  OCCUPATION_TYPE_High skill tech staff              bool   \n",
      " 145  OCCUPATION_TYPE_IT staff                           bool   \n",
      " 146  OCCUPATION_TYPE_Laborers                           bool   \n",
      " 147  OCCUPATION_TYPE_Low-skill Laborers                 bool   \n",
      " 148  OCCUPATION_TYPE_Managers                           bool   \n",
      " 149  OCCUPATION_TYPE_Medicine staff                     bool   \n",
      " 150  OCCUPATION_TYPE_Private service staff              bool   \n",
      " 151  OCCUPATION_TYPE_Realty agents                      bool   \n",
      " 152  OCCUPATION_TYPE_Sales staff                        bool   \n",
      " 153  OCCUPATION_TYPE_Secretaries                        bool   \n",
      " 154  OCCUPATION_TYPE_Security staff                     bool   \n",
      " 155  OCCUPATION_TYPE_Waiters/barmen staff               bool   \n",
      " 156  WEEKDAY_APPR_PROCESS_START_FRIDAY                  bool   \n",
      " 157  WEEKDAY_APPR_PROCESS_START_MONDAY                  bool   \n",
      " 158  WEEKDAY_APPR_PROCESS_START_SATURDAY                bool   \n",
      " 159  WEEKDAY_APPR_PROCESS_START_SUNDAY                  bool   \n",
      " 160  WEEKDAY_APPR_PROCESS_START_THURSDAY                bool   \n",
      " 161  WEEKDAY_APPR_PROCESS_START_TUESDAY                 bool   \n",
      " 162  WEEKDAY_APPR_PROCESS_START_WEDNESDAY               bool   \n",
      " 163  ORGANIZATION_TYPE_Advertising                      bool   \n",
      " 164  ORGANIZATION_TYPE_Agriculture                      bool   \n",
      " 165  ORGANIZATION_TYPE_Bank                             bool   \n",
      " 166  ORGANIZATION_TYPE_Business Entity Type 1           bool   \n",
      " 167  ORGANIZATION_TYPE_Business Entity Type 2           bool   \n",
      " 168  ORGANIZATION_TYPE_Business Entity Type 3           bool   \n",
      " 169  ORGANIZATION_TYPE_Cleaning                         bool   \n",
      " 170  ORGANIZATION_TYPE_Construction                     bool   \n",
      " 171  ORGANIZATION_TYPE_Culture                          bool   \n",
      " 172  ORGANIZATION_TYPE_Electricity                      bool   \n",
      " 173  ORGANIZATION_TYPE_Emergency                        bool   \n",
      " 174  ORGANIZATION_TYPE_Government                       bool   \n",
      " 175  ORGANIZATION_TYPE_Hotel                            bool   \n",
      " 176  ORGANIZATION_TYPE_Housing                          bool   \n",
      " 177  ORGANIZATION_TYPE_Industry: type 1                 bool   \n",
      " 178  ORGANIZATION_TYPE_Industry: type 10                bool   \n",
      " 179  ORGANIZATION_TYPE_Industry: type 11                bool   \n",
      " 180  ORGANIZATION_TYPE_Industry: type 12                bool   \n",
      " 181  ORGANIZATION_TYPE_Industry: type 2                 bool   \n",
      " 182  ORGANIZATION_TYPE_Industry: type 3                 bool   \n",
      " 183  ORGANIZATION_TYPE_Industry: type 4                 bool   \n",
      " 184  ORGANIZATION_TYPE_Industry: type 5                 bool   \n",
      " 185  ORGANIZATION_TYPE_Industry: type 6                 bool   \n",
      " 186  ORGANIZATION_TYPE_Industry: type 7                 bool   \n",
      " 187  ORGANIZATION_TYPE_Industry: type 8                 bool   \n",
      " 188  ORGANIZATION_TYPE_Industry: type 9                 bool   \n",
      " 189  ORGANIZATION_TYPE_Insurance                        bool   \n",
      " 190  ORGANIZATION_TYPE_Kindergarten                     bool   \n",
      " 191  ORGANIZATION_TYPE_Legal Services                   bool   \n",
      " 192  ORGANIZATION_TYPE_Medicine                         bool   \n",
      " 193  ORGANIZATION_TYPE_Military                         bool   \n",
      " 194  ORGANIZATION_TYPE_Mobile                           bool   \n",
      " 195  ORGANIZATION_TYPE_Other                            bool   \n",
      " 196  ORGANIZATION_TYPE_Police                           bool   \n",
      " 197  ORGANIZATION_TYPE_Postal                           bool   \n",
      " 198  ORGANIZATION_TYPE_Realtor                          bool   \n",
      " 199  ORGANIZATION_TYPE_Religion                         bool   \n",
      " 200  ORGANIZATION_TYPE_Restaurant                       bool   \n",
      " 201  ORGANIZATION_TYPE_School                           bool   \n",
      " 202  ORGANIZATION_TYPE_Security                         bool   \n",
      " 203  ORGANIZATION_TYPE_Security Ministries              bool   \n",
      " 204  ORGANIZATION_TYPE_Self-employed                    bool   \n",
      " 205  ORGANIZATION_TYPE_Services                         bool   \n",
      " 206  ORGANIZATION_TYPE_Telecom                          bool   \n",
      " 207  ORGANIZATION_TYPE_Trade: type 1                    bool   \n",
      " 208  ORGANIZATION_TYPE_Trade: type 2                    bool   \n",
      " 209  ORGANIZATION_TYPE_Trade: type 3                    bool   \n",
      " 210  ORGANIZATION_TYPE_Trade: type 4                    bool   \n",
      " 211  ORGANIZATION_TYPE_Trade: type 6                    bool   \n",
      " 212  ORGANIZATION_TYPE_Trade: type 7                    bool   \n",
      " 213  ORGANIZATION_TYPE_Transport: type 1                bool   \n",
      " 214  ORGANIZATION_TYPE_Transport: type 2                bool   \n",
      " 215  ORGANIZATION_TYPE_Transport: type 3                bool   \n",
      " 216  ORGANIZATION_TYPE_Transport: type 4                bool   \n",
      " 217  ORGANIZATION_TYPE_University                       bool   \n",
      " 218  FONDKAPREMONT_MODE_not specified                   bool   \n",
      " 219  FONDKAPREMONT_MODE_org spec account                bool   \n",
      " 220  FONDKAPREMONT_MODE_reg oper account                bool   \n",
      " 221  FONDKAPREMONT_MODE_reg oper spec account           bool   \n",
      " 222  HOUSETYPE_MODE_block of flats                      bool   \n",
      " 223  HOUSETYPE_MODE_specific housing                    bool   \n",
      " 224  HOUSETYPE_MODE_terraced house                      bool   \n",
      " 225  WALLSMATERIAL_MODE_Block                           bool   \n",
      " 226  WALLSMATERIAL_MODE_Mixed                           bool   \n",
      " 227  WALLSMATERIAL_MODE_Monolithic                      bool   \n",
      " 228  WALLSMATERIAL_MODE_Others                          bool   \n",
      " 229  WALLSMATERIAL_MODE_Panel                           bool   \n",
      " 230  WALLSMATERIAL_MODE_Stone, brick                    bool   \n",
      " 231  WALLSMATERIAL_MODE_Wooden                          bool   \n",
      " 232  EMERGENCYSTATE_MODE_No                             bool   \n",
      " 233  EMERGENCYSTATE_MODE_Yes                            bool   \n",
      "dtypes: bool(129), float64(65), int64(40)\n",
      "memory usage: 8.0 MB\n"
     ]
    }
   ],
   "source": [
    "X.info(10) #ahora la abse de datos queda de 234 variables en vez de 122"
   ]
  },
  {
   "cell_type": "code",
   "execution_count": 13,
   "metadata": {},
   "outputs": [
    {
     "data": {
      "text/plain": [
       "TARGET\n",
       "0    8076\n",
       "1    4038\n",
       "Name: count, dtype: int64"
      ]
     },
     "execution_count": 13,
     "metadata": {},
     "output_type": "execute_result"
    }
   ],
   "source": [
    "#con algoritmo SMOTE se balancea la base de datos, ahora la base queda con 12114 filas, de esta 8076 filas con TARGET=0 y 4038 filas con TARGET=1\n",
    "\n",
    "# define oversampling and undersampling\n",
    "over = SMOTE(sampling_strategy=0.5) #aumenta la clase minoritaría al 50% de la mayoritaria\n",
    "under = RandomUnderSampler(sampling_strategy=0.5) #reduce la clase mayoritaria para que represente un 50% más que la minoritaria\n",
    "\n",
    "# apply SMOTE\n",
    "X_over, y_over = over.fit_resample(X, y)\n",
    "# apply RandomUnderSampler\n",
    "X_sm, y_sm = under.fit_resample(X_over, y_over)\n",
    "\n",
    "# summarize the new class distribution\n",
    "y_sm.value_counts()"
   ]
  },
  {
   "cell_type": "code",
   "execution_count": 14,
   "metadata": {},
   "outputs": [],
   "source": [
    "X_train, X_test, y_train, y_test = train_test_split(X_sm, y_sm, test_size=0.3, random_state=42, stratify=y_sm) #divide la base de datos en entrenamiento y test. \n",
    "#El 70% de los datos se usan para entrenar el modelo y el 30% restante para probar el modelo"
   ]
  },
  {
   "cell_type": "code",
   "execution_count": 15,
   "metadata": {},
   "outputs": [
    {
     "name": "stdout",
     "output_type": "stream",
     "text": [
      "8479\n",
      "3635\n"
     ]
    }
   ],
   "source": [
    "print(len(X_train)) \n",
    "print(len(X_test)) "
   ]
  },
  {
   "cell_type": "markdown",
   "metadata": {},
   "source": [
    "De las 12114 filas, 8479 se utilizan para entrenar el modelo y 3635 para probar el modelo"
   ]
  },
  {
   "cell_type": "markdown",
   "metadata": {},
   "source": [
    "## Algoritmo Random Forest"
   ]
  },
  {
   "cell_type": "code",
   "execution_count": 16,
   "metadata": {},
   "outputs": [],
   "source": [
    "model=RandomForestClassifier(random_state=42)"
   ]
  },
  {
   "cell_type": "markdown",
   "metadata": {},
   "source": [
    "Para evitar problemas de dimensionalidad (muchas variables), se aplica selección de caracteristicas. Esto permite reducir el numero de variables en el modelo"
   ]
  },
  {
   "cell_type": "code",
   "execution_count": 17,
   "metadata": {},
   "outputs": [
    {
     "name": "stdout",
     "output_type": "stream",
     "text": [
      "              precision    recall  f1-score   support\n",
      "\n",
      "           0       0.94      1.00      0.97      2423\n",
      "           1       0.99      0.86      0.92      1212\n",
      "\n",
      "    accuracy                           0.95      3635\n",
      "   macro avg       0.96      0.93      0.94      3635\n",
      "weighted avg       0.95      0.95      0.95      3635\n",
      "\n",
      "[[2415    8]\n",
      " [ 165 1047]]\n"
     ]
    }
   ],
   "source": [
    "# seleccion de variables\n",
    "selection = SelectFromModel(model, threshold=0.01)\n",
    "select_X_train = selection.fit_transform(X_train, y_train)\n",
    "\n",
    "\n",
    "# entrena el modelo con las variables seleccionadas\n",
    "selection_model = RandomForestClassifier()\n",
    "selection_model.fit(select_X_train, y_train)\n",
    "\n",
    "\n",
    "# evalua el modelo \n",
    "select_X_test = selection.transform(X_test)\n",
    "\n",
    "y_pred = selection_model.predict(select_X_test)\n",
    "print(classification_report(y_test, y_pred))\n",
    "print(confusion_matrix(y_test, y_pred))"
   ]
  },
  {
   "cell_type": "markdown",
   "metadata": {},
   "source": [
    "El accuracy es de 95%\n",
    "\n",
    "El recall de los casos de fraude es 0.86\n",
    "\n",
    "Precision de los casos de fraude es 0.99\n",
    "\n",
    "F1 score de los casos de fraude es 0.92"
   ]
  },
  {
   "cell_type": "code",
   "execution_count": 18,
   "metadata": {},
   "outputs": [
    {
     "data": {
      "image/png": "[encoded data removed]",
      "text/plain": [
       "<Figure size 640x480 with 2 Axes>"
      ]
     },
     "metadata": {},
     "output_type": "display_data"
    }
   ],
   "source": [
    "#grafia la matriz de confusion\n",
    "cm = confusion_matrix(y_test, y_pred)\n",
    "sns.heatmap(cm, annot=True, fmt=\"d\")\n",
    "plt.xlabel('Predicción')\n",
    "plt.ylabel('Real')\n",
    "plt.show()\n"
   ]
  },
  {
   "cell_type": "markdown",
   "metadata": {},
   "source": [
    "Los datos sobre los que evalua el modelo son 3635. De estos 2423 corresponden a transacciones reales y 1212 fraudes. El Modelo predice que 2580 casos son reales, acierta en 2415 y equivoca en 165. Además, predice que 1055 corresponden a fraude, acierta en 1047 y equivoca en 8. Los aciertos se encuentran en la diagonal de la matriz"
   ]
  },
  {
   "cell_type": "markdown",
   "metadata": {},
   "source": [
    "El accuracy se calcula (2415+1047)/3635\n",
    "\n",
    "Recall (1047/1212)= 0.86386138\n",
    "precision= 1047/1054=0.9933586\n",
    "\n",
    "F1 score= 2 x (0.86386138 x 0.9933586)/(0.86386138+0.9933586)=0.92409\n",
    "\n"
   ]
  },
  {
   "cell_type": "code",
   "execution_count": 20,
   "metadata": {},
   "outputs": [
    {
     "name": "stdout",
     "output_type": "stream",
     "text": [
      "29\n"
     ]
    },
    {
     "data": {
      "text/plain": [
       "Index(['AMT_CREDIT', 'OWN_CAR_AGE', 'CNT_FAM_MEMBERS', 'EXT_SOURCE_1',\n",
       "       'EXT_SOURCE_2', 'EXT_SOURCE_3', 'FLOORSMAX_AVG', 'FLOORSMIN_AVG',\n",
       "       'ELEVATORS_MODE', 'FLOORSMAX_MODE', 'FLOORSMIN_MODE',\n",
       "       'NONLIVINGAPARTMENTS_MODE', 'ELEVATORS_MEDI', 'FLOORSMAX_MEDI',\n",
       "       'FLOORSMIN_MEDI', 'NONLIVINGAPARTMENTS_MEDI',\n",
       "       'OBS_30_CNT_SOCIAL_CIRCLE', 'OBS_60_CNT_SOCIAL_CIRCLE',\n",
       "       'AMT_REQ_CREDIT_BUREAU_YEAR', 'CODE_GENDER_F', 'CODE_GENDER_M',\n",
       "       'NAME_INCOME_TYPE_Commercial associate', 'NAME_INCOME_TYPE_Working',\n",
       "       'NAME_EDUCATION_TYPE_Higher education',\n",
       "       'NAME_EDUCATION_TYPE_Secondary / secondary special',\n",
       "       'OCCUPATION_TYPE_Laborers', 'ORGANIZATION_TYPE_Business Entity Type 3',\n",
       "       'FONDKAPREMONT_MODE_reg oper account', 'WALLSMATERIAL_MODE_Panel'],\n",
       "      dtype='object')"
      ]
     },
     "execution_count": 20,
     "metadata": {},
     "output_type": "execute_result"
    }
   ],
   "source": [
    "#variables seleccionadas\n",
    "selected_feat= X.columns[(selection.get_support())]\n",
    "print(len(selected_feat))\n",
    "\n",
    "selected_feat\n"
   ]
  },
  {
   "cell_type": "markdown",
   "metadata": {},
   "source": [
    "De las 234 variables del dataset, el modelo solo utilizó 29 variables para realizar la predicción"
   ]
  }
 ],
 "metadata": {
  "kernelspec": {
   "display_name": "tensorlab",
   "language": "python",
   "name": "python3"
  },
  "language_info": {
   "codemirror_mode": {
    "name": "ipython",
    "version": 3
   },
   "file_extension": ".py",
   "mimetype": "text/x-python",
   "name": "python",
   "nbconvert_exporter": "python",
   "pygments_lexer": "ipython3",
   "version": "3.9.19"
  }
 },
 "nbformat": 4,
 "nbformat_minor": 2
}
